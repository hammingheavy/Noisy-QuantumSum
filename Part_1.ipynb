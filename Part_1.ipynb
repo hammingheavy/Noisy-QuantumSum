{
 "cells": [
  {
   "cell_type": "markdown",
   "metadata": {},
   "source": [
    "# Part 1: Noise Model\n",
    "---\n",
    "\n",
    "A standard way to represent the noise in a quantum circuit is through Pauli operators (x, y, z). Build a function with input ,  and QuantumCircuit where:\n",
    "\n",
    "- ```alpha```: Probability of having a random Pauli operator acting on the qubit after a one-qubit gate \n",
    "- ```beta```: Probability of having a random Pauli operator acting on the qubit after a two-qubit gate \n",
    "- ```QuantumCircuit```:  Quantum circuit where the noise will be added \n",
    "\n",
    "The output should be the Quantum Circuit with Noise \n"
   ]
  },
  {
   "cell_type": "markdown",
   "metadata": {},
   "source": [
    "I'm using pennylane to simulate the quantum circuits."
   ]
  },
  {
   "cell_type": "code",
   "execution_count": 1,
   "metadata": {},
   "outputs": [],
   "source": [
    "import pennylane as qml\n",
    "from pennylane import numpy as np\n",
    "from helper_func import statevector_to_braket, create_circuit_from_operations_measurements"
   ]
  },
  {
   "cell_type": "markdown",
   "metadata": {},
   "source": [
    "The circuit is written as a list of operations along with their parameters and the wires they act on. The measurements from the cirucit is written as another list."
   ]
  },
  {
   "cell_type": "code",
   "execution_count": 2,
   "metadata": {},
   "outputs": [],
   "source": [
    "ops = [\n",
    "    qml.Hadamard(wires=0),\n",
    "    qml.CNOT(wires=[0, 1]),\n",
    "    qml.RX(0.5, wires=3),\n",
    "    qml.SWAP(wires=[1, 2])\n",
    "]\n",
    "\n",
    "measurements = [\n",
    "    qml.state()\n",
    "]"
   ]
  },
  {
   "cell_type": "markdown",
   "metadata": {},
   "source": [
    "The quantum tape contains all the operations in a circuit including the measurements."
   ]
  },
  {
   "cell_type": "code",
   "execution_count": 3,
   "metadata": {},
   "outputs": [
    {
     "data": {
      "text/plain": [
       "[Hadamard(wires=[0]),\n",
       " CNOT(wires=[0, 1]),\n",
       " RX(0.5, wires=[3]),\n",
       " SWAP(wires=[1, 2]),\n",
       " state(wires=[])]"
      ]
     },
     "execution_count": 3,
     "metadata": {},
     "output_type": "execute_result"
    }
   ],
   "source": [
    "clean_tape = qml.tape.QuantumTape(ops, measurements)\n",
    "clean_tape.circuit"
   ]
  },
  {
   "cell_type": "markdown",
   "metadata": {},
   "source": [
    "Simulate the circuit to obtain the statevector as an array. Convert the array to bra-ket notation for a better understanding.\n",
    "\n",
    "Function for converting statevector from a complex array to bra-ket notation in helper_func"
   ]
  },
  {
   "cell_type": "code",
   "execution_count": 4,
   "metadata": {},
   "outputs": [
    {
     "name": "stdout",
     "output_type": "stream",
     "text": [
      "[0.68512454+0.j         0.        -0.17494102j 0.        +0.j\n",
      " 0.        +0.j         0.        +0.j         0.        +0.j\n",
      " 0.        +0.j         0.        +0.j         0.        +0.j\n",
      " 0.        +0.j         0.68512454+0.j         0.        -0.17494102j\n",
      " 0.        +0.j         0.        +0.j         0.        +0.j\n",
      " 0.        +0.j        ]\n"
     ]
    },
    {
     "data": {
      "text/plain": [
       "'0.69+0.00j * |0000> + 0.00-0.17j * |0001> + 0.69+0.00j * |1010> + 0.00-0.17j * |1011>'"
      ]
     },
     "execution_count": 4,
     "metadata": {},
     "output_type": "execute_result"
    }
   ],
   "source": [
    "dev = qml.device(\"lightning.qubit\", wires=4)\n",
    "clean_sv = qml.execute([clean_tape], dev)[0]\n",
    "print(clean_sv)\n",
    "statevector_to_braket(qml.execute([clean_tape], dev)[0])"
   ]
  },
  {
   "cell_type": "markdown",
   "metadata": {},
   "source": [
    "It is not mentioned if the error on two qubit gates occur on one or both the qubits. Therefore, I have assumed that the error only occurs on any one of the qubits."
   ]
  },
  {
   "cell_type": "code",
   "execution_count": 5,
   "metadata": {},
   "outputs": [],
   "source": [
    "# Function to make a noisy circuit from a noiseless circuit\n",
    "# Randomly insert Pauli-X, Pauli-Y, or Pauli-Z gates after each gate in the circuit with input probabilities\n",
    "def make_noisy(alpha, beta, ops):\n",
    "    index = 0\n",
    "    while index < len(ops):\n",
    "        op = ops[index]\n",
    "        num_wires = len(op.wires)\n",
    "        op_wires = op.wires.tolist()\n",
    "        if num_wires == 1 and np.random.rand() < alpha:\n",
    "            new_op = np.random.choice([qml.PauliX, qml.PauliY, qml.PauliZ])(wires=op_wires)\n",
    "            ops.insert(index + 1, new_op)\n",
    "            index += 1\n",
    "        elif num_wires == 2 and np.random.rand() < beta:\n",
    "            new_wire = np.random.choice(op_wires)\n",
    "            new_op = np.random.choice([qml.PauliX, qml.PauliY, qml.PauliZ])(wires=new_wire)\n",
    "            ops.insert(index + 1, new_op)\n",
    "            index += 1\n",
    "        index += 1"
   ]
  },
  {
   "cell_type": "code",
   "execution_count": 6,
   "metadata": {},
   "outputs": [],
   "source": [
    "alpha = 0.7\n",
    "beta = 0.4\n",
    "\n",
    "make_noisy(alpha, beta, ops)"
   ]
  },
  {
   "cell_type": "markdown",
   "metadata": {},
   "source": [
    "We have the quantum circuit with noise."
   ]
  },
  {
   "cell_type": "code",
   "execution_count": 7,
   "metadata": {},
   "outputs": [
    {
     "data": {
      "text/plain": [
       "[Hadamard(wires=[0]),\n",
       " Y(0),\n",
       " CNOT(wires=[0, 1]),\n",
       " X(1),\n",
       " RX(0.5, wires=[3]),\n",
       " X(3),\n",
       " SWAP(wires=[1, 2]),\n",
       " Z(1),\n",
       " state(wires=[])]"
      ]
     },
     "execution_count": 7,
     "metadata": {},
     "output_type": "execute_result"
    }
   ],
   "source": [
    "noisy_tape = qml.tape.QuantumTape(ops, measurements)\n",
    "noisy_tape.circuit"
   ]
  },
  {
   "cell_type": "markdown",
   "metadata": {},
   "source": [
    "Noisy statevector as an array and converted to bra-ket notation."
   ]
  },
  {
   "cell_type": "code",
   "execution_count": 8,
   "metadata": {},
   "outputs": [
    {
     "name": "stdout",
     "output_type": "stream",
     "text": [
      "[ 0.        -0.j          0.        -0.j         -0.17494102-0.j\n",
      "  0.        -0.68512454j -0.        +0.j         -0.        +0.j\n",
      " -0.        +0.j         -0.        +0.j          0.17494102+0.j\n",
      "  0.        +0.68512454j  0.        +0.j          0.        +0.j\n",
      " -0.        -0.j         -0.        -0.j         -0.        -0.j\n",
      " -0.        -0.j        ]\n"
     ]
    },
    {
     "data": {
      "text/plain": [
       "'-0.17-0.00j * |0010> + 0.00-0.69j * |0011> + 0.17+0.00j * |1000> + 0.00+0.69j * |1001>'"
      ]
     },
     "execution_count": 8,
     "metadata": {},
     "output_type": "execute_result"
    }
   ],
   "source": [
    "noisy_sv = qml.execute([noisy_tape], dev)[0]\n",
    "print(noisy_sv)\n",
    "statevector_to_braket(qml.execute([noisy_tape], dev)[0])"
   ]
  },
  {
   "cell_type": "markdown",
   "metadata": {},
   "source": [
    "The amount of noise in the circuit can be quantified by calculating the fidelity between the expected state and the noisy state. Fidelity provides a measure of how close the noisy state is to the intended result, with values ranging from 0 (orthogonal) to 1 (identical)."
   ]
  },
  {
   "cell_type": "code",
   "execution_count": 9,
   "metadata": {},
   "outputs": [
    {
     "name": "stdout",
     "output_type": "stream",
     "text": [
      "1.6483897267854733e-35\n"
     ]
    }
   ],
   "source": [
    "clean_dm = np.outer(clean_sv, np.conjugate(clean_sv))\n",
    "noisy_dm = np.outer(noisy_sv, np.conjugate(noisy_sv))\n",
    "fidelity = qml.math.fidelity(clean_dm, noisy_dm)\n",
    "print(fidelity)"
   ]
  },
  {
   "cell_type": "markdown",
   "metadata": {},
   "source": [
    "Proceed to Decompositions.ipynb"
   ]
  }
 ],
 "metadata": {
  "kernelspec": {
   "display_name": "base",
   "language": "python",
   "name": "python3"
  },
  "language_info": {
   "codemirror_mode": {
    "name": "ipython",
    "version": 3
   },
   "file_extension": ".py",
   "mimetype": "text/x-python",
   "name": "python",
   "nbconvert_exporter": "python",
   "pygments_lexer": "ipython3",
   "version": "3.12.2"
  }
 },
 "nbformat": 4,
 "nbformat_minor": 2
}
